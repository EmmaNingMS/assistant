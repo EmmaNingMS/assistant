{
 "cells": [
  {
   "cell_type": "code",
   "execution_count": null,
   "id": "2cdce572-02eb-421e-a1c2-d169a4c85e2b",
   "metadata": {},
   "outputs": [],
   "source": [
    "!pip install onnxruntime-genai\n",
    "!pip install onnxruntime\n",
    "!pip install olive\n",
    "!pip install huggingface-hub"
   ]
  },
  {
   "cell_type": "code",
   "execution_count": null,
   "id": "51ea1db1-4460-49ed-8da5-918a1adb460d",
   "metadata": {},
   "outputs": [],
   "source": [
    "!huggingface-cli login --token <TOKEN>"
   ]
  },
  {
   "cell_type": "code",
   "execution_count": 6,
   "id": "e86b3453-0e9f-47fb-ab63-193e0e06c583",
   "metadata": {},
   "outputs": [
    {
     "name": "stdout",
     "output_type": "stream",
     "text": [
      "[2024-04-10 15:01:07,980] [INFO] [run.py:243:run] Loading Olive module configuration from: C:\\Users\\nakersha\\AppData\\Local\\miniconda3\\envs\\assistant\\Lib\\site-packages\\olive\\olive_config.json\n",
      "[2024-04-10 15:01:07,989] [INFO] [run.py:249:run] Loading run configuration from: olive.json\n",
      "[2024-04-10 15:01:08,021] [INFO] [config.py:184:validate_evaluate_input_model] No evaluator is specified, skip to evaluate model\n",
      "[2024-04-10 15:01:08,044] [DEBUG] [accelerator.py:245:normalize_accelerators] The accelerator device and execution providers are specified, skipping deduce.\n",
      "[2024-04-10 15:01:08,050] [DEBUG] [accelerator.py:275:normalize_accelerators] Supported execution providers for device cpu: ['CPUExecutionProvider']\n",
      "[2024-04-10 15:01:08,053] [DEBUG] [accelerator.py:302:create_accelerators] Initial accelerators and execution providers: {'CPU': ['CPUExecutionProvider']}\n",
      "[2024-04-10 15:01:08,056] [INFO] [accelerator.py:324:create_accelerators] Running workflow on accelerator specs: cpu-cpu\n",
      "[2024-04-10 15:01:08,057] [INFO] [run.py:196:run_engine] Importing pass module GenAIModelExporter\n",
      "[2024-04-10 15:01:08,058] [INFO] [engine.py:106:initialize] Using cache directory: cache\n",
      "[2024-04-10 15:01:08,067] [INFO] [engine.py:262:run] Running Olive on accelerator: cpu-cpu\n",
      "[2024-04-10 15:01:08,068] [DEBUG] [engine.py:1070:create_system] create native OliveSystem SystemType.Local\n",
      "[2024-04-10 15:01:08,070] [DEBUG] [engine.py:1070:create_system] create native OliveSystem SystemType.Local\n",
      "[2024-04-10 15:01:08,075] [DEBUG] [engine.py:708:_cache_model] Cached model 1473a6e460df1ddcd4cf088ff0019b1e to cache\\models\\1473a6e460df1ddcd4cf088ff0019b1e.json\n",
      "[2024-04-10 15:01:08,078] [DEBUG] [engine.py:335:run_accelerator] Running Olive in no-search mode ...\n",
      "[2024-04-10 15:01:08,079] [DEBUG] [engine.py:427:run_no_search] Running ['genai_exporter'] with no search ...\n",
      "[2024-04-10 15:01:08,080] [INFO] [engine.py:864:_run_pass] Running pass genai_exporter:GenAIModelExporter\n",
      "[2024-04-10 15:01:08,099] [DEBUG] [engine.py:883:_run_pass] Loading model from cache ...\n",
      "[2024-04-10 15:01:08,103] [INFO] [engine.py:898:_run_pass] Loaded model from cache: 0_GenAIModelExporter-1473a6e460df1ddcd4cf088ff0019b1e-fe48ab55cdf4d03b843ede7c3c3be27b-cpu-cpu from cache\\runs\n",
      "[2024-04-10 15:01:08,104] [DEBUG] [engine.py:844:_run_passes] Signal: None\n",
      "[2024-04-10 15:01:08,104] [DEBUG] [resource_path.py:156:create_resource_path] Resource path C:\\Users\\nakersha\\Develop\\code\\natke\\assistant\\cache\\models\\0_GenAIModelExporter-1473a6e460df1ddcd4cf088ff0019b1e-fe48ab55cdf4d03b843ede7c3c3be27b-cpu-cpu\\output_model is inferred to be of type folder.\n",
      "[2024-04-10 15:01:10,581] [INFO] [engine.py:361:run_accelerator] Save footprint to textxyz\\cpu-cpu_footprints.json.\n",
      "[2024-04-10 15:01:10,591] [DEBUG] [engine.py:363:run_accelerator] run_accelerator done\n",
      "[2024-04-10 15:01:10,592] [INFO] [engine.py:279:run] Run history for cpu-cpu:\n",
      "[2024-04-10 15:01:10,594] [INFO] [engine.py:569:dump_run_history] Please install tabulate for better run history output\n",
      "[2024-04-10 15:01:10,599] [INFO] [engine.py:294:run] No packaging config provided, skip packaging artifacts\n"
     ]
    },
    {
     "data": {
      "text/plain": [
       "{AcceleratorSpec(accelerator_type=<Device.CPU: 'cpu'>, execution_provider='CPUExecutionProvider', vender=None, version=None, memory=None, num_cores=None): <olive.engine.footprint.Footprint at 0x242948c3cd0>}"
      ]
     },
     "execution_count": 6,
     "metadata": {},
     "output_type": "execute_result"
    }
   ],
   "source": [
    "import olive.workflows\n",
    "\n",
    "olive.workflows.run(\"olive.json\")"
   ]
  },
  {
   "cell_type": "code",
   "execution_count": null,
   "id": "569d2618-ff32-466a-8bec-eeb967ee364b",
   "metadata": {},
   "outputs": [],
   "source": [
    "import onnxruntime_genai as og\n",
    "import time"
   ]
  },
  {
   "cell_type": "code",
   "execution_count": null,
   "id": "add45ace-14be-4ab3-a68c-303aebeea18c",
   "metadata": {},
   "outputs": [],
   "source": [
    "print(\"Loading model...\")\n",
    "app_started_timestamp = time.time()\n",
    "\n",
    "model = og.Model(f'..\\..\\microsoft\\onnxruntime-genai\\examples\\python\\example-models\\phi2-int4-cpu-acc4')\n",
    "model_loaded_timestamp  = time.time()\n",
    "\n",
    "print(\"Model loaded in {:.2f} seconds\".format(model_loaded_timestamp - app_started_timestamp))\n",
    "\n"
   ]
  },
  {
   "cell_type": "code",
   "execution_count": null,
   "id": "79513969-40bc-4588-a10c-8c482d224fdb",
   "metadata": {},
   "outputs": [],
   "source": [
    "print(\"Loading tokenizer...\")\n",
    "tokenizer = og.Tokenizer(model)\n",
    "tokenizer_stream = tokenizer.create_stream()\n",
    "\n",
    "print(\"Tokenizer created\")\n",
    "\n",
    "system_prompt = \"You are a helpful assistant. Answer in one sentence.\"\n",
    "text = \"What is Dilithium?\"\n",
    "\n",
    "input_tokens = tokenizer.encode(system_prompt + text)\n",
    "\n",
    "prompt_length = len(input_tokens)"
   ]
  },
  {
   "cell_type": "code",
   "execution_count": null,
   "id": "9dcf8cc3-d5d2-42b1-8ad1-76d6629667b1",
   "metadata": {},
   "outputs": [],
   "source": [
    "started_timestamp = time.time()\n",
    "\n",
    "print(\"Creating generator ...\")\n",
    "params = og.GeneratorParams(model)\n",
    "params.set_search_options({\"do_sample\": False, \"max_length\": 2028, \"min_length\": 0, \"top_p\": 0.9, \"top_k\": 40, \"temperature\": 1.0, \"repetition_penalty\": 1.0})\n",
    "params.input_ids = input_tokens\n",
    "generator = og.Generator(model, params)\n",
    "print(\"Generator created\")\n",
    "\n",
    "first = True\n",
    "new_tokens = []\n",
    "\n",
    "while not generator.is_done():\n",
    "    generator.compute_logits()\n",
    "    generator.generate_next_token()\n",
    "    if first:\n",
    "        first_token_timestamp = time.time()\n",
    "        first = False\n",
    "\n",
    "    new_token = generator.get_next_tokens()[0]\n",
    "    print(tokenizer_stream.decode(new_token), end=\"\")\n",
    "    new_tokens.append(new_token)\n",
    "\n",
    "print()\n",
    "run_time = time.time() - started_timestamp\n",
    "print(f\"Prompt tokens: {len(input_tokens)}, New tokens: {len(new_tokens)}, Time to first: {(first_token_timestamp - started_timestamp):.2f}s, New tokens per second: {len(new_tokens)/run_time:.2f} tps\")\n"
   ]
  },
  {
   "cell_type": "markdown",
   "id": "0c5d82bb-2ff8-4765-8919-d2c5e709819a",
   "metadata": {},
   "source": [
    "## Download and build llama.cpp\n",
    "git clone https://github.com/ggerganov/llama.cpp.git\n",
    "cd llama.cpp\n",
    "cmake -S . -B build/ -D CMAKE_BUILD_TYPE=Release\n",
    "cmake --build build/ --config Release\n",
    "\n",
    "## Download gguf phi-2 model\n",
    "git clone https://huggingface.co/TheBloke/phi-2-GGUF"
   ]
  },
  {
   "cell_type": "code",
   "execution_count": null,
   "id": "dfd4e897-1316-4f80-8fe1-0088341be5b9",
   "metadata": {},
   "outputs": [],
   "source": [
    "# Compare with llama.cpp.\n",
    "\n",
    "! ..\\..\\ggerganov\\llama.cpp\\build\\bin\\Release\\main -m ..\\..\\thebloke\\phi-2-GGUF\\phi-2.Q4_K_M.gguf --prompt \"You are a helpful assistant. Answer in one sentence. What is Dilithium?\"\n"
   ]
  },
  {
   "cell_type": "code",
   "execution_count": null,
   "id": "f0b2672d-2f25-4f89-9d74-d87c37f453d2",
   "metadata": {},
   "outputs": [],
   "source": []
  }
 ],
 "metadata": {
  "kernelspec": {
   "display_name": "Python 3 (ipykernel)",
   "language": "python",
   "name": "python3"
  },
  "language_info": {
   "codemirror_mode": {
    "name": "ipython",
    "version": 3
   },
   "file_extension": ".py",
   "mimetype": "text/x-python",
   "name": "python",
   "nbconvert_exporter": "python",
   "pygments_lexer": "ipython3",
   "version": "3.11.8"
  }
 },
 "nbformat": 4,
 "nbformat_minor": 5
}
