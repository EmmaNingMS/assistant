{
 "cells": [
  {
   "cell_type": "code",
   "execution_count": 4,
   "id": "2cdce572-02eb-421e-a1c2-d169a4c85e2b",
   "metadata": {},
   "outputs": [
    {
     "name": "stdout",
     "output_type": "stream",
     "text": [
      "Requirement already satisfied: onnxruntime-genai in c:\\users\\nakersha\\appdata\\local\\miniconda3\\envs\\assistant\\lib\\site-packages (0.1.0)\n",
      "Requirement already satisfied: olive in c:\\users\\nakersha\\appdata\\local\\miniconda3\\envs\\assistant\\lib\\site-packages (0.2.11)\n",
      "Requirement already satisfied: requests in c:\\users\\nakersha\\appdata\\local\\miniconda3\\envs\\assistant\\lib\\site-packages (from olive) (2.31.0)\n",
      "Requirement already satisfied: python-dotenv in c:\\users\\nakersha\\appdata\\local\\miniconda3\\envs\\assistant\\lib\\site-packages (from olive) (1.0.1)\n",
      "Requirement already satisfied: charset-normalizer<4,>=2 in c:\\users\\nakersha\\appdata\\local\\miniconda3\\envs\\assistant\\lib\\site-packages (from requests->olive) (3.3.2)\n",
      "Requirement already satisfied: idna<4,>=2.5 in c:\\users\\nakersha\\appdata\\local\\miniconda3\\envs\\assistant\\lib\\site-packages (from requests->olive) (3.6)\n",
      "Requirement already satisfied: urllib3<3,>=1.21.1 in c:\\users\\nakersha\\appdata\\local\\miniconda3\\envs\\assistant\\lib\\site-packages (from requests->olive) (2.2.1)\n",
      "Requirement already satisfied: certifi>=2017.4.17 in c:\\users\\nakersha\\appdata\\local\\miniconda3\\envs\\assistant\\lib\\site-packages (from requests->olive) (2024.2.2)\n",
      "Collecting huggingface-hub\n",
      "  Using cached huggingface_hub-0.22.2-py3-none-any.whl.metadata (12 kB)\n",
      "Requirement already satisfied: filelock in c:\\users\\nakersha\\appdata\\local\\miniconda3\\envs\\assistant\\lib\\site-packages (from huggingface-hub) (3.13.4)\n",
      "Requirement already satisfied: fsspec>=2023.5.0 in c:\\users\\nakersha\\appdata\\local\\miniconda3\\envs\\assistant\\lib\\site-packages (from huggingface-hub) (2024.3.1)\n",
      "Requirement already satisfied: packaging>=20.9 in c:\\users\\nakersha\\appdata\\local\\miniconda3\\envs\\assistant\\lib\\site-packages (from huggingface-hub) (24.0)\n",
      "Requirement already satisfied: pyyaml>=5.1 in c:\\users\\nakersha\\appdata\\local\\miniconda3\\envs\\assistant\\lib\\site-packages (from huggingface-hub) (6.0.1)\n",
      "Requirement already satisfied: requests in c:\\users\\nakersha\\appdata\\local\\miniconda3\\envs\\assistant\\lib\\site-packages (from huggingface-hub) (2.31.0)\n",
      "Requirement already satisfied: tqdm>=4.42.1 in c:\\users\\nakersha\\appdata\\local\\miniconda3\\envs\\assistant\\lib\\site-packages (from huggingface-hub) (4.66.2)\n",
      "Requirement already satisfied: typing-extensions>=3.7.4.3 in c:\\users\\nakersha\\appdata\\local\\miniconda3\\envs\\assistant\\lib\\site-packages (from huggingface-hub) (4.11.0)\n",
      "Requirement already satisfied: colorama in c:\\users\\nakersha\\appdata\\local\\miniconda3\\envs\\assistant\\lib\\site-packages (from tqdm>=4.42.1->huggingface-hub) (0.4.6)\n",
      "Requirement already satisfied: charset-normalizer<4,>=2 in c:\\users\\nakersha\\appdata\\local\\miniconda3\\envs\\assistant\\lib\\site-packages (from requests->huggingface-hub) (3.3.2)\n",
      "Requirement already satisfied: idna<4,>=2.5 in c:\\users\\nakersha\\appdata\\local\\miniconda3\\envs\\assistant\\lib\\site-packages (from requests->huggingface-hub) (3.6)\n",
      "Requirement already satisfied: urllib3<3,>=1.21.1 in c:\\users\\nakersha\\appdata\\local\\miniconda3\\envs\\assistant\\lib\\site-packages (from requests->huggingface-hub) (2.2.1)\n",
      "Requirement already satisfied: certifi>=2017.4.17 in c:\\users\\nakersha\\appdata\\local\\miniconda3\\envs\\assistant\\lib\\site-packages (from requests->huggingface-hub) (2024.2.2)\n",
      "Using cached huggingface_hub-0.22.2-py3-none-any.whl (388 kB)\n",
      "Installing collected packages: huggingface-hub\n",
      "Successfully installed huggingface-hub-0.22.2\n"
     ]
    }
   ],
   "source": [
    "!pip install onnxruntime-genai\n",
    "!pip install olive\n",
    "!pip install huggingface-hub"
   ]
  },
  {
   "cell_type": "code",
   "execution_count": 5,
   "id": "51ea1db1-4460-49ed-8da5-918a1adb460d",
   "metadata": {},
   "outputs": [
    {
     "name": "stdout",
     "output_type": "stream",
     "text": [
      "Token has not been saved to git credential helper. Pass `add_to_git_credential=True` if you want to set the git credential as well.\n",
      "Token is valid (permission: read).\n",
      "Your token has been saved to C:\\Users\\nakersha\\.cache\\huggingface\\token\n",
      "Login successful\n"
     ]
    }
   ],
   "source": [
    "!huggingface-cli login --token <TOKEN>"
   ]
  },
  {
   "cell_type": "code",
   "execution_count": null,
   "id": "e86b3453-0e9f-47fb-ab63-193e0e06c583",
   "metadata": {},
   "outputs": [],
   "source": [
    "import olive.workflows\n",
    "\n",
    "olive.workflows.run(\"olive.json\")"
   ]
  },
  {
   "cell_type": "code",
   "execution_count": 6,
   "id": "569d2618-ff32-466a-8bec-eeb967ee364b",
   "metadata": {},
   "outputs": [],
   "source": [
    "import onnxruntime_genai as og\n",
    "import time"
   ]
  },
  {
   "cell_type": "code",
   "execution_count": null,
   "id": "add45ace-14be-4ab3-a68c-303aebeea18c",
   "metadata": {},
   "outputs": [
    {
     "name": "stdout",
     "output_type": "stream",
     "text": [
      "Loading model...\n",
      "Model loaded in 49.38 seconds\n"
     ]
    }
   ],
   "source": [
    "print(\"Loading model...\")\n",
    "app_started_timestamp = time.time()\n",
    "\n",
    "model = og.Model(f'..\\..\\microsoft\\onnxruntime-genai\\examples\\python\\example-models\\phi2-int4-cpu-acc4')\n",
    "model_loaded_timestamp  = time.time()\n",
    "\n",
    "print(\"Model loaded in {:.2f} seconds\".format(model_loaded_timestamp - app_started_timestamp))\n",
    "\n"
   ]
  },
  {
   "cell_type": "code",
   "execution_count": 9,
   "id": "79513969-40bc-4588-a10c-8c482d224fdb",
   "metadata": {},
   "outputs": [
    {
     "name": "stdout",
     "output_type": "stream",
     "text": [
      "Loading tokenizer...\n",
      "Tokenizer created\n"
     ]
    }
   ],
   "source": [
    "print(\"Loading tokenizer...\")\n",
    "tokenizer = og.Tokenizer(model)\n",
    "tokenizer_stream = tokenizer.create_stream()\n",
    "\n",
    "print(\"Tokenizer created\")\n",
    "\n",
    "system_prompt = \"You are a helpful assistant. Answer in one sentence.\"\n",
    "text = \"What is Dilithium?\"\n",
    "\n",
    "input_tokens = tokenizer.encode(system_prompt + text)\n",
    "\n",
    "prompt_length = len(input_tokens)"
   ]
  },
  {
   "cell_type": "code",
   "execution_count": 10,
   "id": "9dcf8cc3-d5d2-42b1-8ad1-76d6629667b1",
   "metadata": {},
   "outputs": [
    {
     "name": "stdout",
     "output_type": "stream",
     "text": [
      "Creating generator ...\n",
      "Generator created\n",
      "\n",
      "Answer: Dilithium is a fictional substance in the Star Trek universe that is used as a propellant for spaceships.\n",
      "\n",
      "Prompt tokens: 17, New tokens: 28, Time to first: 1.77s, New tokens per second: 4.68 tps\n"
     ]
    }
   ],
   "source": [
    "started_timestamp = time.time()\n",
    "\n",
    "print(\"Creating generator ...\")\n",
    "params = og.GeneratorParams(model)\n",
    "params.set_search_options({\"do_sample\": False, \"max_length\": 2028, \"min_length\": 0, \"top_p\": 0.9, \"top_k\": 40, \"temperature\": 1.0, \"repetition_penalty\": 1.0})\n",
    "params.input_ids = input_tokens\n",
    "generator = og.Generator(model, params)\n",
    "print(\"Generator created\")\n",
    "\n",
    "first = True\n",
    "new_tokens = []\n",
    "\n",
    "while not generator.is_done():\n",
    "    generator.compute_logits()\n",
    "    generator.generate_next_token()\n",
    "    if first:\n",
    "        first_token_timestamp = time.time()\n",
    "        first = False\n",
    "\n",
    "    new_token = generator.get_next_tokens()[0]\n",
    "    print(tokenizer_stream.decode(new_token), end=\"\")\n",
    "    new_tokens.append(new_token)\n",
    "\n",
    "print()\n",
    "run_time = time.time() - started_timestamp\n",
    "print(f\"Prompt tokens: {len(input_tokens)}, New tokens: {len(new_tokens)}, Time to first: {(first_token_timestamp - started_timestamp):.2f}s, New tokens per second: {len(new_tokens)/run_time:.2f} tps\")\n"
   ]
  },
  {
   "cell_type": "code",
   "execution_count": 1,
   "id": "dfd4e897-1316-4f80-8fe1-0088341be5b9",
   "metadata": {},
   "outputs": [
    {
     "name": "stderr",
     "output_type": "stream",
     "text": [
      "Log start\n",
      "main: build = 2647 (8228b66d)\n",
      "main: built with MSVC 19.39.33523.0 for x64\n",
      "main: seed  = 1712774450\n",
      "llama_model_load: error loading model: llama_model_loader: failed to load model from models/7B/ggml-model-f16.gguf\n",
      "\n",
      "llama_load_model_from_file: failed to load model\n",
      "llama_init_from_gpt_params: error: failed to load model 'models/7B/ggml-model-f16.gguf'\n",
      "main: error: unable to load model\n"
     ]
    }
   ],
   "source": [
    "# Compare with llama.cpp.\n",
    "\n",
    "! ..\\..\\..\\..\\ggerganov\\llama.cpp\\build\\bin\\Release\\main -m ..\\..\\..\\..\\thebloke\\phi-2-GGUF\\phi-2.Q4_K_M.gguf --prompt \"You are a helpful assistant. Answer in one sentence. What is Dilithium?\"\n"
   ]
  },
  {
   "cell_type": "code",
   "execution_count": null,
   "id": "f0b2672d-2f25-4f89-9d74-d87c37f453d2",
   "metadata": {},
   "outputs": [],
   "source": []
  }
 ],
 "metadata": {
  "kernelspec": {
   "display_name": "Python 3 (ipykernel)",
   "language": "python",
   "name": "python3"
  },
  "language_info": {
   "codemirror_mode": {
    "name": "ipython",
    "version": 3
   },
   "file_extension": ".py",
   "mimetype": "text/x-python",
   "name": "python",
   "nbconvert_exporter": "python",
   "pygments_lexer": "ipython3",
   "version": "3.11.8"
  }
 },
 "nbformat": 4,
 "nbformat_minor": 5
}
